{
  "nbformat": 4,
  "nbformat_minor": 0,
  "metadata": {
    "colab": {
      "name": "Untitled0.ipynb",
      "provenance": [],
      "authorship_tag": "ABX9TyOQqkOsEmvvhBbkCBahGk09",
      "include_colab_link": true
    },
    "kernelspec": {
      "name": "python3",
      "display_name": "Python 3"
    }
  },
  "cells": [
    {
      "cell_type": "markdown",
      "metadata": {
        "id": "view-in-github",
        "colab_type": "text"
      },
      "source": [
        "<a href=\"https://colab.research.google.com/github/YansKhoja/DEEPLEARNING/blob/master/ResNet-50-transfert.ipynb\" target=\"_parent\"><img src=\"https://colab.research.google.com/assets/colab-badge.svg\" alt=\"Open In Colab\"/></a>"
      ]
    },
    {
      "cell_type": "code",
      "metadata": {
        "colab": {
          "base_uri": "https://localhost:8080/",
          "height": 367
        },
        "id": "90S9f5AdKoN2",
        "outputId": "a3e3f1d4-c4a1-4f3c-9ff7-bba53f467ada"
      },
      "source": [
        "import numpy as np\r\n",
        "from keras.applications.resnet50 import ResNet50\r\n",
        "from keras.models import Model\r\n",
        "from keras.optimizers import SGD\r\n",
        "import keras\r\n",
        "from data_gen import PascalVOCDataGenerator\r\n",
        "lr = 0.1\r\n",
        "sgd = SGD(lr)\r\n",
        "model = ResNet50(include_top=True, weights='imagenet')\r\n",
        "model.layers.pop()\r\n",
        "model = Model(model.input,model.layers[-1].output)\r\n",
        "# model.summary()\r\n",
        "keras.utils.plot_model(model,\"Resnet_plot.png\", show_shapes=True)\r\n",
        "model.compile(loss='binary_crossentropy', optimizer=SGD(lr, momentum=0.9), metrics=['binary_accuracy'])\r\n",
        "data_dir = '.\\VOC2007\\VOCdevkit\\VOC2007'\r\n",
        "data_generator_train = PascalVOCDataGenerator('trainval', data_dir)\r\n",
        "batch_size = 32\r\n",
        "generator = data_generator_train.flow(batch_size=batch_size)\r\n",
        "# Initilisation des matrices contenant les Deep Features et les labels\r\n",
        "X_train = np.zeros((len(data_generator_train.images_ids_in_subset),1000))\r\n",
        "Y_train = np.zeros((len(data_generator_train.images_ids_in_subset),20))\r\n",
        "# Calcul du nombre e batchs\r\n",
        "nb_batches = int(len(data_generator_train.images_ids_in_subset) / batch_size) + 1\r\n",
        "\r\n",
        "for i in range(nb_batches):\r\n",
        "    print(str(i) + str(\"/\") + str(nb_batches))\r\n",
        "    # Pour chaque batch, on extrait les images d'entrée X et les labels y\r\n",
        "    X, y = next(generator)\r\n",
        "    # On récupère les Deep Feature par appel à predict\r\n",
        "    y_pred = model.predict(X)\r\n",
        "    X_train[i*batch_size:(i+1)*batch_size,:] = y_pred\r\n",
        "    Y_train[i*batch_size:(i+1)*batch_size,:] = y\r\n",
        "    \r\n",
        "outfile = 'DF_ResNet50_VOC2007.csv'\r\n",
        "np.savez(outfile, X_train, Y_train)"
      ],
      "execution_count": 1,
      "outputs": [
        {
          "output_type": "error",
          "ename": "ModuleNotFoundError",
          "evalue": "ignored",
          "traceback": [
            "\u001b[0;31m---------------------------------------------------------------------------\u001b[0m",
            "\u001b[0;31mModuleNotFoundError\u001b[0m                       Traceback (most recent call last)",
            "\u001b[0;32m<ipython-input-1-673bff472537>\u001b[0m in \u001b[0;36m<module>\u001b[0;34m()\u001b[0m\n\u001b[1;32m      4\u001b[0m \u001b[0;32mfrom\u001b[0m \u001b[0mkeras\u001b[0m\u001b[0;34m.\u001b[0m\u001b[0moptimizers\u001b[0m \u001b[0;32mimport\u001b[0m \u001b[0mSGD\u001b[0m\u001b[0;34m\u001b[0m\u001b[0;34m\u001b[0m\u001b[0m\n\u001b[1;32m      5\u001b[0m \u001b[0;32mimport\u001b[0m \u001b[0mkeras\u001b[0m\u001b[0;34m\u001b[0m\u001b[0;34m\u001b[0m\u001b[0m\n\u001b[0;32m----> 6\u001b[0;31m \u001b[0;32mfrom\u001b[0m \u001b[0mdata_gen\u001b[0m \u001b[0;32mimport\u001b[0m \u001b[0mPascalVOCDataGenerator\u001b[0m\u001b[0;34m\u001b[0m\u001b[0;34m\u001b[0m\u001b[0m\n\u001b[0m\u001b[1;32m      7\u001b[0m \u001b[0mlr\u001b[0m \u001b[0;34m=\u001b[0m \u001b[0;36m0.1\u001b[0m\u001b[0;34m\u001b[0m\u001b[0;34m\u001b[0m\u001b[0m\n\u001b[1;32m      8\u001b[0m \u001b[0msgd\u001b[0m \u001b[0;34m=\u001b[0m \u001b[0mSGD\u001b[0m\u001b[0;34m(\u001b[0m\u001b[0mlr\u001b[0m\u001b[0;34m)\u001b[0m\u001b[0;34m\u001b[0m\u001b[0;34m\u001b[0m\u001b[0m\n",
            "\u001b[0;31mModuleNotFoundError\u001b[0m: No module named 'data_gen'",
            "",
            "\u001b[0;31m---------------------------------------------------------------------------\u001b[0;32m\nNOTE: If your import is failing due to a missing package, you can\nmanually install dependencies using either !pip or !apt.\n\nTo view examples of installing some common dependencies, click the\n\"Open Examples\" button below.\n\u001b[0;31m---------------------------------------------------------------------------\u001b[0m\n"
          ]
        }
      ]
    }
  ]
}